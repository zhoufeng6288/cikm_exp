{
 "cells": [
  {
   "cell_type": "code",
   "execution_count": 1,
   "metadata": {},
   "outputs": [],
   "source": [
    "import numpy as np\n",
    "import matplotlib.pyplot as plt\n",
    "from scipy import optimize\n",
    "from scipy.stats import expon\n",
    "from scipy.stats import uniform\n",
    "from scipy.stats import multivariate_normal\n",
    "from scipy.stats import norm"
   ]
  },
  {
   "cell_type": "markdown",
   "metadata": {},
   "source": [
    "## simulation for geometric browning motion"
   ]
  },
  {
   "cell_type": "code",
   "execution_count": 39,
   "metadata": {},
   "outputs": [],
   "source": [
    "c_1=1\n",
    "c_2=2\n",
    "sigma=2"
   ]
  },
  {
   "cell_type": "code",
   "execution_count": 40,
   "metadata": {},
   "outputs": [],
   "source": [
    "x0=1"
   ]
  },
  {
   "cell_type": "code",
   "execution_count": 41,
   "metadata": {},
   "outputs": [],
   "source": [
    "timestamps=np.array([0,1,2,3]) ## include 0"
   ]
  },
  {
   "cell_type": "code",
   "execution_count": 42,
   "metadata": {},
   "outputs": [],
   "source": [
    "def simu_GBM(theta,timestamps,x0,num_sample): ## assume we can only observe the process at timestamps\n",
    "    c_1=theta[0]\n",
    "    c_2=theta[1]\n",
    "    sigma=theta[2]\n",
    "    y=np.zeros((num_sample,len(timestamps))) ## y value\n",
    "    for i in range(num_sample):      ## simulate num-sample brwoning motions\n",
    "        mean_temp=0\n",
    "        for j in range(1,len(timestamps)):\n",
    "            y[i][j]=norm.rvs(loc=mean_temp,scale=np.sqrt(timestamps[j]-timestamps[j-1]))\n",
    "            mean_temp=y[i][j]\n",
    "    \n",
    "    for i in range(num_sample):\n",
    "        y[i]=timestamps**2*c_1/2+c_2*(timestamps**2*(np.log(np.maximum(timestamps,0.0001))-1))-sigma**2/2*timestamps+sigma*y[i]\n",
    "    y=x0*np.exp(y)\n",
    "    return y"
   ]
  },
  {
   "cell_type": "code",
   "execution_count": 43,
   "metadata": {},
   "outputs": [],
   "source": [
    "y=simu_GBM([c_1,c_2,sigma],timestamps,x0,5000)"
   ]
  },
  {
   "cell_type": "markdown",
   "metadata": {},
   "source": [
    "## inference with 1st and 2nd order moments"
   ]
  },
  {
   "cell_type": "code",
   "execution_count": 44,
   "metadata": {},
   "outputs": [],
   "source": [
    "def mean_theoretical(x0,c1,c2,timestamps):\n",
    "    return x0*np.exp(0.25*timestamps**2*(2*c1+2*c2*np.log(np.maximum(timestamps,0.0001))-c2))"
   ]
  },
  {
   "cell_type": "code",
   "execution_count": 45,
   "metadata": {},
   "outputs": [],
   "source": [
    "def var_theoretical(x0,c1,c2,sigma,timestamps):\n",
    "    return x0**2*np.exp(0.5*timestamps*(2*c1*timestamps-c2*timestamps+2*c2*timestamps*np.log(np.maximum(timestamps,0.0001))+2*sigma)) \\\n",
    "            -mean_theoretical(x0,c1,c2,timestamps)**2"
   ]
  },
  {
   "cell_type": "code",
   "execution_count": 46,
   "metadata": {},
   "outputs": [],
   "source": [
    "def loss_mean(parameters,x0,timestamps,data): ## parameters are c1 c2 sigma\n",
    "    c1=parameters[0]\n",
    "    c2=parameters[1]\n",
    "    \n",
    "    mean_empir=np.average(data,axis=0)\n",
    "    mean_theo=mean_theoretical(x0,c1,c2,timestamps)\n",
    "    mse_mean = ((mean_empir - mean_theo)**2).mean(axis=None)\n",
    "\n",
    "    return np.log(mse_mean)"
   ]
  },
  {
   "cell_type": "code",
   "execution_count": 47,
   "metadata": {},
   "outputs": [],
   "source": [
    "def loss_var(sigma,x0,c1,c2,timestamps,data):\n",
    "    var_empir=np.var(data,axis=0)\n",
    "    var_theo=var_theoretical(x0,c1,c2,sigma,timestamps)\n",
    "    mse_var = ((var_empir - var_theo)**2).mean(axis=None)\n",
    "    \n",
    "    return np.log(mse_var)"
   ]
  },
  {
   "cell_type": "code",
   "execution_count": 48,
   "metadata": {},
   "outputs": [
    {
     "name": "stdout",
     "output_type": "stream",
     "text": [
      "Optimization terminated successfully.    (Exit mode 0)\n",
      "            Current function value: -0.1252577409702149\n",
      "            Iterations: 16\n",
      "            Function evaluations: 75\n",
      "            Gradient evaluations: 16\n"
     ]
    }
   ],
   "source": [
    "parameters=np.array([1.2,0.7])\n",
    "res_mean=optimize.minimize(loss_mean, parameters,args=(x0,timestamps,y), method='SLSQP', bounds=((0.001,10),(0.001,10)), options={'disp': True})"
   ]
  },
  {
   "cell_type": "code",
   "execution_count": 49,
   "metadata": {},
   "outputs": [
    {
     "data": {
      "text/plain": [
       "array([1.00000000e-03, 2.18246257e+00])"
      ]
     },
     "execution_count": 49,
     "metadata": {},
     "output_type": "execute_result"
    }
   ],
   "source": [
    "res_mean.x"
   ]
  },
  {
   "cell_type": "code",
   "execution_count": 50,
   "metadata": {},
   "outputs": [
    {
     "name": "stdout",
     "output_type": "stream",
     "text": [
      "Optimization terminated successfully.    (Exit mode 0)\n",
      "            Current function value: 10.091884957178591\n",
      "            Iterations: 18\n",
      "            Function evaluations: 74\n",
      "            Gradient evaluations: 18\n"
     ]
    }
   ],
   "source": [
    "parameter=3\n",
    "res_var=optimize.minimize(loss_var, parameter,args=(x0,res_mean.x[0],res_mean.x[1],timestamps,y), method='SLSQP', bounds=[(0.001,10)], options={'disp': True})"
   ]
  },
  {
   "cell_type": "code",
   "execution_count": 51,
   "metadata": {},
   "outputs": [
    {
     "data": {
      "text/plain": [
       "array([2.07371269])"
      ]
     },
     "execution_count": 51,
     "metadata": {},
     "output_type": "execute_result"
    }
   ],
   "source": [
    "res_var.x"
   ]
  }
 ],
 "metadata": {
  "kernelspec": {
   "display_name": "Python 3",
   "language": "python",
   "name": "python3"
  },
  "language_info": {
   "codemirror_mode": {
    "name": "ipython",
    "version": 3
   },
   "file_extension": ".py",
   "mimetype": "text/x-python",
   "name": "python",
   "nbconvert_exporter": "python",
   "pygments_lexer": "ipython3",
   "version": "3.6.7"
  }
 },
 "nbformat": 4,
 "nbformat_minor": 2
}
